{
 "metadata": {
  "name": "",
  "signature": "sha256:c2657ddfa42ed96b83e483af942527166b16f11a9bd647d498de9053ec795017"
 },
 "nbformat": 3,
 "nbformat_minor": 0,
 "worksheets": []
}