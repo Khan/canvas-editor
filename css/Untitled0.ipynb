{
 "metadata": {
  "name": "",
  "signature": "sha256:1aa26cc66e6bde94626fcb920f97ef6eb58c81e6b716dd576e2660fb8b75b0c6"
 },
 "nbformat": 3,
 "nbformat_minor": 0,
 "worksheets": [
  {
   "cells": [
    {
     "cell_type": "code",
     "collapsed": false,
     "input": [
      "cd /Users/InternProfile/Downloads/Archive/"
     ],
     "language": "python",
     "metadata": {},
     "outputs": [
      {
       "output_type": "stream",
       "stream": "stdout",
       "text": [
        "/Users/InternProfile/Downloads/Archive\n"
       ]
      }
     ],
     "prompt_number": 12
    },
    {
     "cell_type": "code",
     "collapsed": false,
     "input": [
      "from PIL import Image\n",
      "import os, argparse, sys\n",
      "import imghdr"
     ],
     "language": "python",
     "metadata": {},
     "outputs": [],
     "prompt_number": 5
    },
    {
     "cell_type": "code",
     "collapsed": false,
     "input": [
      "parser = argparse.ArgumentParser(description='Create thumbs for all the images in a directory')\n",
      "parser.add_argument('dir', help=\"The directory the images are in\")\n",
      "parser.add_argument('--width', help=\"Thumbnail max-width\", type=int)\n",
      "parser.add_argument('--height', help=\"Thumbnail max-height\", type=int)\n",
      "\n",
      "args = parser.parse_args()\n",
      "\n",
      "target = (args.height, args.width)\n",
      "imgs = [os.path.join(args.dir,file) for file in os.listdir(args.dir)]\n",
      "thumbs_dir = os.path.join(args.dir, \"thumbs\")\n",
      "\n",
      "if not os.path.exists(thumbs_dir):\n",
      "    os.mkdir(thumbs_dir)\n",
      "    \n",
      "for imgFile in imgs:\n",
      "    if os.path.isfile(imgFile) and imghdr.what(imgFile):\n",
      "        t = [target[0], target[1]]\n",
      "        im = Image.open(imgFile)\n",
      "        xratio = float(im.size[0])/t[0]\n",
      "        yratio = float(im.size[1])/t[1]\n",
      "        if xratio > yratio:\n",
      "            t[1] = int(im.size[1]/xratio)\n",
      "        else:\n",
      "            t[0] = int(im.size[0]/yratio)\n",
      "        thumb = im.resize(t, Image.ANTIALIAS)\n",
      "        thumb.save(os.path.join(thumbs_dir,imgFile))"
     ],
     "language": "python",
     "metadata": {},
     "outputs": [],
     "prompt_number": 16
    },
    {
     "cell_type": "code",
     "collapsed": false,
     "input": [
      "os.listdir(\"thumbs\")"
     ],
     "language": "python",
     "metadata": {},
     "outputs": [
      {
       "metadata": {},
       "output_type": "pyout",
       "prompt_number": 13,
       "text": [
        "['.DS_Store',\n",
        " 'butterfly-168563_1280.jpg',\n",
        " 'cat-401124_1280.jpg',\n",
        " 'cheetah-425468_1280.jpg',\n",
        " 'collies-388923_1280.jpg',\n",
        " 'fox-71826.png',\n",
        " 'hare-581_1280.jpg',\n",
        " 'horse-337215_1280.jpg',\n",
        " 'horse-426393_1280.jpg',\n",
        " 'kangaroos-340289_1280.jpg',\n",
        " 'penguins-429128_1280.jpg',\n",
        " 'penguins-429134_1280.jpg',\n",
        " 'retriever-348572_1280.jpg',\n",
        " 'shark-220748_1280.jpg',\n",
        " 'sleeping-puppy-383932_1280.jpg']"
       ]
      }
     ],
     "prompt_number": 13
    },
    {
     "cell_type": "code",
     "collapsed": false,
     "input": [
      "im.size"
     ],
     "language": "python",
     "metadata": {},
     "outputs": [
      {
       "metadata": {},
       "output_type": "pyout",
       "prompt_number": 13,
       "text": [
        "(1280, 960)"
       ]
      }
     ],
     "prompt_number": 13
    },
    {
     "cell_type": "code",
     "collapsed": false,
     "input": [
      "def crash():\n",
      "    print \"hi\"\n",
      "    a = a\n",
      "crash()"
     ],
     "language": "python",
     "metadata": {},
     "outputs": [
      {
       "output_type": "stream",
       "stream": "stdout",
       "text": [
        "hi\n"
       ]
      },
      {
       "ename": "UnboundLocalError",
       "evalue": "local variable 'a' referenced before assignment",
       "output_type": "pyerr",
       "traceback": [
        "\u001b[0;31m---------------------------------------------------------------------------\u001b[0m\n\u001b[0;31mUnboundLocalError\u001b[0m                         Traceback (most recent call last)",
        "\u001b[0;32m<ipython-input-2-621c859c5030>\u001b[0m in \u001b[0;36m<module>\u001b[0;34m()\u001b[0m\n\u001b[1;32m      2\u001b[0m     \u001b[0;32mprint\u001b[0m \u001b[0;34m\"hi\"\u001b[0m\u001b[0;34m\u001b[0m\u001b[0m\n\u001b[1;32m      3\u001b[0m     \u001b[0ma\u001b[0m \u001b[0;34m=\u001b[0m \u001b[0ma\u001b[0m\u001b[0;34m\u001b[0m\u001b[0m\n\u001b[0;32m----> 4\u001b[0;31m \u001b[0mcrash\u001b[0m\u001b[0;34m(\u001b[0m\u001b[0;34m)\u001b[0m\u001b[0;34m\u001b[0m\u001b[0m\n\u001b[0m",
        "\u001b[0;32m<ipython-input-2-621c859c5030>\u001b[0m in \u001b[0;36mcrash\u001b[0;34m()\u001b[0m\n\u001b[1;32m      1\u001b[0m \u001b[0;32mdef\u001b[0m \u001b[0mcrash\u001b[0m\u001b[0;34m(\u001b[0m\u001b[0;34m)\u001b[0m\u001b[0;34m:\u001b[0m\u001b[0;34m\u001b[0m\u001b[0m\n\u001b[1;32m      2\u001b[0m     \u001b[0;32mprint\u001b[0m \u001b[0;34m\"hi\"\u001b[0m\u001b[0;34m\u001b[0m\u001b[0m\n\u001b[0;32m----> 3\u001b[0;31m     \u001b[0ma\u001b[0m \u001b[0;34m=\u001b[0m \u001b[0ma\u001b[0m\u001b[0;34m\u001b[0m\u001b[0m\n\u001b[0m\u001b[1;32m      4\u001b[0m \u001b[0mcrash\u001b[0m\u001b[0;34m(\u001b[0m\u001b[0;34m)\u001b[0m\u001b[0;34m\u001b[0m\u001b[0m\n",
        "\u001b[0;31mUnboundLocalError\u001b[0m: local variable 'a' referenced before assignment"
       ]
      }
     ],
     "prompt_number": 2
    },
    {
     "cell_type": "code",
     "collapsed": false,
     "input": [
      "parser = argparse.ArgumentParser(description='Create thumbs for all the images in a directory')\n",
      "parser.add_argument('dir', help=\"The directory the images are in\")\n",
      "parser.add_argument('--width', help=\"Thumbnail max-width\", type=int, default=128)\n",
      "parser.add_argument('--height', help=\"Thumbnail max-height\", type=int)\n",
      "\n",
      "print parser.parse_args([\"python\"]).width"
     ],
     "language": "python",
     "metadata": {},
     "outputs": [
      {
       "output_type": "stream",
       "stream": "stdout",
       "text": [
        "128\n"
       ]
      }
     ],
     "prompt_number": 10
    },
    {
     "cell_type": "code",
     "collapsed": false,
     "input": [],
     "language": "python",
     "metadata": {},
     "outputs": []
    }
   ],
   "metadata": {}
  }
 ]
}